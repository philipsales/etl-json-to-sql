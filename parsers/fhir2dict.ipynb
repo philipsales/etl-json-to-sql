{
 "cells": [
  {
   "cell_type": "code",
   "execution_count": 104,
   "metadata": {},
   "outputs": [],
   "source": [
    "\n",
    "import sys\n",
    "import os\n",
    "from os import path\n",
    "from os import walk\n",
    "\n",
    "import re\n",
    "\n",
    "import pandas as pd\n",
    "import json\n",
    "import logging\n",
    "import pandas_profiling\n",
    "\n"
   ]
  },
  {
   "cell_type": "markdown",
   "metadata": {},
   "source": [
    "## Flatten Dict"
   ]
  },
  {
   "cell_type": "code",
   "execution_count": 45,
   "metadata": {},
   "outputs": [],
   "source": [
    "def flattenDict(d, result=None):\n",
    "    if result is None:\n",
    "        result = {}\n",
    "    for key in d:\n",
    "        value = d[key]\n",
    "        if isinstance(value, dict):\n",
    "        #if d['type'] =='object':\n",
    "            value1 = {}\n",
    "            for keyIn in value:\n",
    "                value1[\".\".join([key,keyIn])]=value[keyIn]\n",
    "            flattenDict(value1, result)\n",
    "        elif isinstance(value, (list, tuple)):   \n",
    "            for indexB, element in enumerate(value):\n",
    "                if isinstance(element, dict):\n",
    "                    value1 = {}\n",
    "                    index = 0\n",
    "                    for keyIn in element:\n",
    "                        newkey = \".\".join([key,keyIn])        \n",
    "                        value1[\".\".join([key,keyIn])]=value[indexB][keyIn]\n",
    "                        index += 1\n",
    "                    for keyA in value1:\n",
    "                        flattenDict(value1, result)   \n",
    "        else:\n",
    "            result[key]=value\n",
    "    return result"
   ]
  },
  {
   "cell_type": "code",
   "execution_count": 135,
   "metadata": {},
   "outputs": [],
   "source": [
    "class MakeDirectory:\n",
    "    \n",
    "    def __init__(self, path):\n",
    "        self.path = path\n",
    "\n",
    "    def create_dir(self, folders=None):\n",
    "        dirName = ''\n",
    "        \n",
    "        if isinstance(folders, list):\n",
    "            \n",
    "            for folder in folders:\n",
    "                dirName =  self.path + '/' + folder\n",
    "                try:\n",
    "                    os.mkdir(dirName)\n",
    "                    print(\"Directory \" , dirName ,  \" Created \") \n",
    "                except FileExistsError:\n",
    "                    print(\"Directory \" , dirName ,  \" already exists\")\n",
    "        else:\n",
    "            os.mkdir(dirName)"
   ]
  },
  {
   "cell_type": "markdown",
   "metadata": {},
   "source": [
    "## Folder directory Iterator"
   ]
  },
  {
   "cell_type": "code",
   "execution_count": 214,
   "metadata": {},
   "outputs": [],
   "source": [
    "import re\n",
    "\n",
    "from os import path\n",
    "from os import walk\n",
    "\n",
    "class FileIterator:\n",
    "    \n",
    "    def __init__(self, input_root, input_folders):\n",
    "        self.input_data_dir = input_root\n",
    "        self.input_folders = input_folders\n",
    "        \n",
    "    def iterate_filenames(self):\n",
    "        resources = self.__iterate_dirfiles()\n",
    "        files = self.__iterate_file(resources)\n",
    "        return files\n",
    "        \n",
    "    def __iterate_dirfiles(self):\n",
    "        path_files = []\n",
    "        file_names = self.input_folders\n",
    "\n",
    "        for file in file_names:\n",
    "            path_files.append(input_data_dir + '/' + file)\n",
    "        return path_files\n",
    "    \n",
    "    def __iterate_file(self, path_dbs):\n",
    "        path_db_workload_files = []\n",
    "        \n",
    "        for path_db in path_dbs:\n",
    "            \n",
    "            for root, dirs, files in walk(path_db):  \n",
    "                \n",
    "                for filename in files:\n",
    "                    #print('filename: ', filename)\n",
    "                    #print('path_db_workload_files: ', root + '/' + filename)\n",
    "                    path_db_workload_files.append(root + '/' + filename)\n",
    "                    #if ''.join(dirs) != '.ipynb_checkpoints':\n",
    "                        #pass\n",
    "                    #else: \n",
    "                        #if \".swp\" not in filename and \".DS_Store\" not in filename and \".txt~\" not in filename:\n",
    "                        #path_db_workload_files.append(root + '/' + filename)\n",
    "                        \n",
    "        \n",
    "        return path_db_workload_files"
   ]
  },
  {
   "cell_type": "markdown",
   "metadata": {},
   "source": [
    "## Filecontent reader"
   ]
  },
  {
   "cell_type": "code",
   "execution_count": 204,
   "metadata": {},
   "outputs": [],
   "source": [
    "class ContentReader():\n",
    "    \n",
    "    def __init__(self, filename_paths):\n",
    "        self.filename_paths = filename_paths\n",
    "        \n",
    "    def get_data(self):\n",
    "        data = []\n",
    "        for filename_path in self.filename_paths:\n",
    "          \n",
    "            file = filename_path.split(sep='/')\n",
    "            filename = (file[len(file)-1])\n",
    "            \n",
    "            json = ReadJSON()\n",
    "            data.append(json.read(filename_path))\n",
    "\n",
    "        return data"
   ]
  },
  {
   "cell_type": "markdown",
   "metadata": {},
   "source": [
    "## File Open"
   ]
  },
  {
   "cell_type": "code",
   "execution_count": 205,
   "metadata": {},
   "outputs": [],
   "source": [
    "class ReadJSON():\n",
    "    \n",
    "    @staticmethod\n",
    "    def read(file_path):\n",
    "        with open(file_path) as f:\n",
    "            d = json.load(f)\n",
    "        return flattenDict(d)\n",
    "        "
   ]
  },
  {
   "cell_type": "markdown",
   "metadata": {},
   "source": [
    "## Print Flatten FHIR JSON"
   ]
  },
  {
   "cell_type": "code",
   "execution_count": 206,
   "metadata": {},
   "outputs": [],
   "source": [
    "class MakeResult():\n",
    "    def __init__(self, data, source_paths, destination_path):\n",
    "        self.source_paths = source_paths\n",
    "        self.data = data\n",
    "        self.destination_path = destination_path\n",
    "        \n",
    "    def outputs(self):      \n",
    "        for resource in self.data:\n",
    "           \n",
    "            destination_path = self.destination_path + '/' + resource['resourceType']\n",
    "            print('destination: ' ,destination_path)\n",
    "            id = resource['id'].split('-')[0]\n",
    "            \n",
    "     \n",
    "            f = open(destination_path + '/' + id + '.' + resource['resourceType'] + '.json', 'w')\n",
    "            f.write(json.dumps(resource))\n",
    "            f.close()\n",
    "        return"
   ]
  },
  {
   "cell_type": "code",
   "execution_count": 221,
   "metadata": {},
   "outputs": [
    {
     "name": "stdout",
     "output_type": "stream",
     "text": [
      "Directory  ../output/fhir-json/Patient  already exists\n",
      "destination:  ../output/fhir-json/Patient\n",
      "destination:  ../output/fhir-json/Patient\n",
      "destination:  ../output/fhir-json/Patient\n",
      "destination:  ../output/fhir-json/Patient\n",
      "destination:  ../output/fhir-json/Patient\n",
      "destination:  ../output/fhir-json/Patient\n"
     ]
    }
   ],
   "source": [
    "root_dir = '../'\n",
    "\n",
    "input_data_folders = ['Patient']\n",
    "input_data_dir = root_dir + 'data/fhir-json/3rows'\n",
    "\n",
    "#input_data_folders = ['Procedure']\n",
    "#input_data_dir = root_dir + 'output/ndjson'\n",
    "\n",
    "output_directory = root_dir + 'output/fhir-json'\n",
    "\n",
    "directory = MakeDirectory(output_directory)\n",
    "directory.create_dir(input_data_folders)\n",
    "            \n",
    "files = FileIterator(input_data_dir, input_data_folders)\n",
    "input_dirpaths = files.iterate_filenames()\n",
    "\n",
    "data = []\n",
    "files = ContentReader(input_dirpaths)\n",
    "data = files.get_data()\n",
    "\n",
    "result = MakeResult(data, input_dirpaths, output_directory)\n",
    "result.outputs()"
   ]
  },
  {
   "cell_type": "code",
   "execution_count": null,
   "metadata": {},
   "outputs": [],
   "source": []
  }
 ],
 "metadata": {
  "kernelspec": {
   "display_name": "Python 3",
   "language": "python",
   "name": "python3"
  },
  "language_info": {
   "codemirror_mode": {
    "name": "ipython",
    "version": 3
   },
   "file_extension": ".py",
   "mimetype": "text/x-python",
   "name": "python",
   "nbconvert_exporter": "python",
   "pygments_lexer": "ipython3",
   "version": "3.6.2"
  }
 },
 "nbformat": 4,
 "nbformat_minor": 2
}
