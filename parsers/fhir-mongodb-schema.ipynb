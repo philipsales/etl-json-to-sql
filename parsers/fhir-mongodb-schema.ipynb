{
 "cells": [
  {
   "cell_type": "code",
   "execution_count": 37,
   "metadata": {},
   "outputs": [],
   "source": [
    "import sys\n",
    "import os\n",
    "import pandas as pd\n",
    "import json\n",
    "import logging\n",
    "import pandas_profiling"
   ]
  },
  {
   "cell_type": "code",
   "execution_count": 38,
   "metadata": {},
   "outputs": [],
   "source": [
    "class MakeDirectory:\n",
    "    \n",
    "    def __init__(self, path):\n",
    "        self.path = path\n",
    "\n",
    "    def create_dir(self):\n",
    "        dirName = self.path\n",
    "        try:\n",
    "            os.makedirs(dirName)\n",
    "            print(\"Directory \" , dirName ,  \" Created \") \n",
    "        except FileExistsError:\n",
    "            print(\"Directory \" , dirName ,  \" already exists\")"
   ]
  },
  {
   "cell_type": "code",
   "execution_count": 73,
   "metadata": {},
   "outputs": [],
   "source": [
    "class ReadNDJSON():\n",
    "    \n",
    "    @staticmethod\n",
    "    def read(file_path):\n",
    "        d = []\n",
    "        with open(file_path) as infile:\n",
    "            for line in infile:\n",
    "                #print(line)\n",
    "                #print(\"----\")\n",
    "                d.append(json.loads(line))\n",
    "            #d = json.load(infile)\n",
    "        #print(d)\n",
    "        return d\n",
    "        #return d"
   ]
  },
  {
   "cell_type": "code",
   "execution_count": 40,
   "metadata": {},
   "outputs": [
    {
     "name": "stdout",
     "output_type": "stream",
     "text": [
      "INPUT DIR:  ../data/ndjson//2.Procedure.ndjson\n",
      "Directory  ../output/fhir-json-mongodb/Procedure/  already exists\n"
     ]
    }
   ],
   "source": [
    "input_path = \"../data/ndjson/\"\n",
    "#input_filename = \"563.DiagnosticReport.ndjson\"\n",
    "input_filename = \"2.Procedure.ndjson\"\n",
    "#input_filename = \"10.Condition.ndjson\"\n",
    "#input_filename = \"100.Patient.ndjson\"\n",
    "input_dir = input_path + '/' + input_filename\n",
    "print('INPUT DIR: ',input_dir)\n",
    "\n",
    "output_filename = input_filename.split('.')[1]\n",
    "#output_dir = \"../output/ndjson/\" + output_filename + '/'\n",
    "output_dir = \"../output/fhir-json-mongodb/\" + output_filename + '/'\n",
    "\n",
    "directory = MakeDirectory(output_dir)\n",
    "directory.create_dir()"
   ]
  },
  {
   "cell_type": "code",
   "execution_count": 102,
   "metadata": {},
   "outputs": [
    {
     "name": "stdout",
     "output_type": "stream",
     "text": [
      "{'resourceType': 'Procedure', 'id': 'e0bab541-12ba-4b6d-8533-7a9d089d9ca7', 'status': 'completed', 'code': {'coding': [{'system': 'http://snomed.info/sct', 'code': '428191000124101', 'display': 'Documentation of current medications'}], 'text': 'Documentation of current medications'}, 'subject': {'reference': 'Patient/ddf5ae5c-5646-4a76-9efd-f7e697f3b728'}, 'context': {'reference': 'Encounter/0780aaee-2233-4ee2-9033-7929ce78e5c0'}, 'performedPeriod': {'start': '2005-04-23T16:33:20+00:00', 'end': '2005-04-23T16:48:20+00:00'}}\n",
      "---\n",
      "Patient/ddf5ae5c-5646-4a76-9efd-f7e697f3b728\n",
      "---\n",
      "{'resourceType': 'Procedure', 'id': '5c85b46e-e485-405e-9979-1ba36134b36c', 'status': 'completed', 'code': {'coding': [{'system': 'http://snomed.info/sct', 'code': '428191000124101', 'display': 'Documentation of current medications'}], 'text': 'Documentation of current medications'}, 'subject': {'reference': 'Patient/ddf5ae5c-5646-4a76-9efd-f7e697f3b728'}, 'context': {'reference': 'Encounter/1c093c58-6f5f-4da6-8d9b-8513b3accf46'}, 'performedPeriod': {'start': '2006-04-29T16:33:20+00:00', 'end': '2006-04-29T16:48:20+00:00'}}\n",
      "---\n",
      "Patient/ddf5ae5c-5646-4a76-9efd-f7e697f3b728\n",
      "---\n"
     ]
    },
    {
     "data": {
      "text/plain": [
       "{'resourceType': 'Procedure',\n",
       " 'id': '5c85b46e-e485-405e-9979-1ba36134b36c',\n",
       " 'status': 'completed',\n",
       " 'code': {'coding': [{'system': 'http://snomed.info/sct',\n",
       "    'code': '428191000124101',\n",
       "    'display': 'Documentation of current medications'}],\n",
       "  'text': 'Documentation of current medications'},\n",
       " 'subject': {'reference': 'Patient/ddf5ae5c-5646-4a76-9efd-f7e697f3b728'},\n",
       " 'context': {'reference': 'Encounter/1c093c58-6f5f-4da6-8d9b-8513b3accf46'},\n",
       " 'performedPeriod': {'start': '2006-04-29T16:33:20+00:00',\n",
       "  'end': '2006-04-29T16:48:20+00:00'},\n",
       " 'patientId': 'Patient/ddf5ae5c-5646-4a76-9efd-f7e697f3b728'}"
      ]
     },
     "execution_count": 102,
     "metadata": {},
     "output_type": "execute_result"
    }
   ],
   "source": [
    "data = []\n",
    "ndjson = ReadNDJSON()\n",
    "filename_path = input_dir\n",
    "\n",
    "datas = ndjson.read(filename_path)\n",
    "\n",
    "new_data = {}\n",
    "\n",
    "for data in datas:\n",
    "    #print(data['id'])\n",
    "    print(data)\n",
    "    print('---')\n",
    "    print(data['subject']['reference'])\n",
    "    print('---')\n",
    "    if(data['subject']['reference']):\n",
    "        #data.popitem()\n",
    "        #data['subject']['reference'] = 'fooo'\n",
    "        #pass\n",
    "        data.update( { 'patientId' : data['subject']['reference'] } )\n",
    "    \n",
    "data"
   ]
  },
  {
   "cell_type": "code",
   "execution_count": 49,
   "metadata": {},
   "outputs": [
    {
     "data": {
      "text/plain": [
       "\"\\nwith open(input_dir) as infile:\\n    index=0\\n    for line in infile:\\n        #print(line)\\n        #print(type(line))\\n        test = json.loads(line)\\n        print(test['id'])\\n        final\\n        f = open(output_dir + str(index) + '.' + output_filename + '.json', 'w')\\n        #f.write(line)\\n        f.write(final)\\n        f.close()\\n        index += 1\\n\""
      ]
     },
     "execution_count": 49,
     "metadata": {},
     "output_type": "execute_result"
    }
   ],
   "source": [
    "'''\n",
    "with open(input_dir) as infile:\n",
    "    index=0\n",
    "    for line in infile:\n",
    "        #print(line)\n",
    "        #print(type(line))\n",
    "        test = json.loads(line)\n",
    "        print(test['id'])\n",
    "        final\n",
    "        f = open(output_dir + str(index) + '.' + output_filename + '.json', 'w')\n",
    "        #f.write(line)\n",
    "        f.write(final)\n",
    "        f.close()\n",
    "        index += 1\n",
    "'''"
   ]
  },
  {
   "cell_type": "code",
   "execution_count": null,
   "metadata": {},
   "outputs": [],
   "source": []
  }
 ],
 "metadata": {
  "kernelspec": {
   "display_name": "Python 3",
   "language": "python",
   "name": "python3"
  },
  "language_info": {
   "codemirror_mode": {
    "name": "ipython",
    "version": 3
   },
   "file_extension": ".py",
   "mimetype": "text/x-python",
   "name": "python",
   "nbconvert_exporter": "python",
   "pygments_lexer": "ipython3",
   "version": "3.6.2"
  }
 },
 "nbformat": 4,
 "nbformat_minor": 2
}
