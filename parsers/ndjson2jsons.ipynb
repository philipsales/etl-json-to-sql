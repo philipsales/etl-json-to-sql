{
 "cells": [
  {
   "cell_type": "code",
   "execution_count": 6,
   "metadata": {},
   "outputs": [],
   "source": [
    "import sys\n",
    "import os\n",
    "import pandas as pd\n",
    "import json\n",
    "import logging\n",
    "import pandas_profiling"
   ]
  },
  {
   "cell_type": "code",
   "execution_count": 7,
   "metadata": {},
   "outputs": [],
   "source": [
    "class MakeDirectory:\n",
    "    \n",
    "    def __init__(self, path):\n",
    "        self.path = path\n",
    "\n",
    "    def create_dir(self):\n",
    "        dirName = self.path\n",
    "        try:\n",
    "            os.makedirs(dirName)\n",
    "            print(\"Directory \" , dirName ,  \" Created \") \n",
    "        except FileExistsError:\n",
    "            print(\"Directory \" , dirName ,  \" already exists\")"
   ]
  },
  {
   "cell_type": "code",
   "execution_count": 15,
   "metadata": {},
   "outputs": [
    {
     "name": "stdout",
     "output_type": "stream",
     "text": [
      "INPUT DIR:  ../data/ndjson//10.Condition.ndjson\n",
      "Directory  ../output/fhir-json/Condition/  already exists\n",
      "0\n",
      "1\n",
      "2\n",
      "3\n",
      "4\n",
      "5\n",
      "6\n",
      "7\n",
      "8\n",
      "9\n"
     ]
    }
   ],
   "source": [
    "input_path = \"../data/ndjson/\"\n",
    "#input_filename = \"3.DiagnosticReport.ndjson\"\n",
    "#input_filename = \"3.Observation.ndjson\"\n",
    "#input_filename = \"5.Procedure.ndjson\"\n",
    "input_filename = \"10.Condition.ndjson\"\n",
    "#input_filename = \"2.Patient.ndjson\"\n",
    "input_dir = input_path + '/' + input_filename\n",
    "print('INPUT DIR: ',input_dir)\n",
    "\n",
    "output_filename = input_filename.split('.')[1]\n",
    "#output_dir = \"../output/ndjson/\" + output_filename + '/'\n",
    "output_dir = \"../output/fhir-json/\" + output_filename + '/'\n",
    "\n",
    "directory = MakeDirectory(output_dir)\n",
    "directory.create_dir()\n",
    "\n",
    "with open(input_dir) as infile:\n",
    "    index=0\n",
    "    for line in infile:\n",
    "        print(index)\n",
    "        f = open(output_dir + str(index) + '.' + output_filename + '.json', 'w')\n",
    "        f.write(line)\n",
    "        f.close()\n",
    "        index += 1"
   ]
  },
  {
   "cell_type": "code",
   "execution_count": null,
   "metadata": {},
   "outputs": [],
   "source": []
  }
 ],
 "metadata": {
  "kernelspec": {
   "display_name": "Python 3",
   "language": "python",
   "name": "python3"
  },
  "language_info": {
   "codemirror_mode": {
    "name": "ipython",
    "version": 3
   },
   "file_extension": ".py",
   "mimetype": "text/x-python",
   "name": "python",
   "nbconvert_exporter": "python",
   "pygments_lexer": "ipython3",
   "version": "3.6.2"
  }
 },
 "nbformat": 4,
 "nbformat_minor": 2
}
