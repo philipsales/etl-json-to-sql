{
 "cells": [
  {
   "cell_type": "code",
   "execution_count": 12,
   "metadata": {},
   "outputs": [],
   "source": [
    "\n",
    "import sys\n",
    "import os\n",
    "from os import path\n",
    "from os import walk\n",
    "\n",
    "import re\n",
    "\n",
    "import pandas as pd\n",
    "import json\n",
    "import logging\n",
    "import pandas_profiling\n",
    "from pandas.io.json import json_normalize "
   ]
  },
  {
   "cell_type": "markdown",
   "metadata": {},
   "source": [
    "## Get Columns"
   ]
  },
  {
   "cell_type": "code",
   "execution_count": 45,
   "metadata": {},
   "outputs": [
    {
     "data": {
      "text/plain": [
       "['code.coding',\n",
       " 'code.text',\n",
       " 'context.reference',\n",
       " 'effectiveDateTime',\n",
       " 'id',\n",
       " 'issued',\n",
       " 'patientId',\n",
       " 'resourceType',\n",
       " 'result',\n",
       " 'status',\n",
       " 'subject.reference']"
      ]
     },
     "execution_count": 45,
     "metadata": {},
     "output_type": "execute_result"
    }
   ],
   "source": [
    "with open(\"../data/fhir-json/2rows/DiagnosticReport/1.DiagnosticReport.json\") as f:\n",
    "    d = json.load(f)\n",
    "\n",
    "awhcuris = json_normalize(d)\n",
    "address_data = awhcuris.head(31)\n",
    "address_data.T\n",
    "\n",
    "data_list = list(address_data)\n",
    "data_list"
   ]
  },
  {
   "cell_type": "markdown",
   "metadata": {},
   "source": [
    "## Flatten"
   ]
  },
  {
   "cell_type": "code",
   "execution_count": 28,
   "metadata": {},
   "outputs": [],
   "source": [
    "def removekey(d, key):\n",
    "    r = dict(d)\n",
    "    print('r: ', r)\n",
    "    del r[key]\n",
    "    print('after del r[key]: ', r)\n",
    "    return r\n",
    "\n",
    "def flattenDict(d, result=None):\n",
    "    if result is None:\n",
    "        result = {}\n",
    "        \n",
    "    for key, value in list(d.items()):\n",
    "        value = d[key]\n",
    "\n",
    "        #CASSANDRA MAPPING\n",
    "            \n",
    "        if isinstance(value, dict):\n",
    "        #if d['type'] =='object':\n",
    "            value1 = {}\n",
    "            for keyIn in value:\n",
    "                value1[\".\".join([key,keyIn])]=value[keyIn]\n",
    "            flattenDict(value1, result)\n",
    "        elif isinstance(value, (list, tuple)):   \n",
    "            for indexB, element in enumerate(value):\n",
    "                if isinstance(element, dict):\n",
    "                    value1 = {}\n",
    "                    index = 0\n",
    "                    for keyIn in element:\n",
    "                        newkey = \".\".join([key,keyIn])        \n",
    "                        value1[\".\".join([key,keyIn])]=value[indexB][keyIn]\n",
    "                        index += 1\n",
    "                    for keyA in value1:\n",
    "                        flattenDict(value1, result)   \n",
    "        else:\n",
    "            result[key]=value\n",
    "    \n",
    "    return result"
   ]
  },
  {
   "cell_type": "code",
   "execution_count": 15,
   "metadata": {},
   "outputs": [],
   "source": [
    "class MakeDirectory:\n",
    "    \n",
    "    def __init__(self, path):\n",
    "        self.path = path\n",
    "\n",
    "    def create_dir(self, folders=None):\n",
    "        dirName = ''\n",
    "        \n",
    "        if isinstance(folders, list):\n",
    "            \n",
    "            for folder in folders:\n",
    "                dirName =  self.path + '/' + folder\n",
    "                try:\n",
    "                    os.makedirs(dirName)\n",
    "                    print(\"Directory \" , dirName ,  \" Created \") \n",
    "                except FileExistsError:\n",
    "                    print(\"Directory \" , dirName ,  \" already exists\")\n",
    "        else:\n",
    "            os.makedirs(dirName)"
   ]
  },
  {
   "cell_type": "markdown",
   "metadata": {},
   "source": [
    "## Folder directory Iterator"
   ]
  },
  {
   "cell_type": "code",
   "execution_count": 39,
   "metadata": {},
   "outputs": [],
   "source": [
    "import re\n",
    "\n",
    "from os import path\n",
    "from os import walk\n",
    "\n",
    "class FileIterator:\n",
    "    \n",
    "    def __init__(self, input_root, input_folders):\n",
    "        self.input_data_dir = input_root\n",
    "        self.input_folders = input_folders\n",
    "        \n",
    "    def iterate_filenames(self):\n",
    "        resources = self.__iterate_dirfiles()\n",
    "        files = self.__iterate_file(resources)\n",
    "        return files\n",
    "        \n",
    "    def __iterate_dirfiles(self):\n",
    "        path_files = []\n",
    "        file_names = self.input_folders\n",
    "\n",
    "        for file in file_names:\n",
    "            path_files.append(input_data_dir + '/' + file)\n",
    "        return path_files\n",
    "    \n",
    "    def __iterate_file(self, path_dbs):\n",
    "        path_db_workload_files = []\n",
    "        \n",
    "        for path_db in path_dbs:\n",
    "            \n",
    "            for root, dirs, files in walk(path_db):  \n",
    "                \n",
    "                for filename in files:\n",
    "                    print('filename: ', filename)\n",
    "                    print('path_db_workload_files: ', root + '/' + filename)\n",
    "                    path_db_workload_files.append(root + '/' + filename)\n",
    "                    #if ''.join(dirs) != '.ipynb_checkpoints':\n",
    "                        #pass\n",
    "                    #else: \n",
    "                        #if \".swp\" not in filename and \".DS_Store\" not in filename and \".txt~\" not in filename:\n",
    "                        #path_db_workload_files.append(root + '/' + filename)\n",
    "                        \n",
    "        \n",
    "        return path_db_workload_files"
   ]
  },
  {
   "cell_type": "markdown",
   "metadata": {},
   "source": [
    "## Filecontent reader"
   ]
  },
  {
   "cell_type": "code",
   "execution_count": 17,
   "metadata": {},
   "outputs": [],
   "source": [
    "class ContentReader():\n",
    "    \n",
    "    def __init__(self, filename_paths):\n",
    "        self.filename_paths = filename_paths\n",
    "        \n",
    "    def get_data(self):\n",
    "        data = []\n",
    "        for filename_path in self.filename_paths:\n",
    "            \n",
    "            json = ReadJSON()\n",
    "            data.append(json.read(filename_path))\n",
    "\n",
    "        return data"
   ]
  },
  {
   "cell_type": "markdown",
   "metadata": {},
   "source": [
    "## File Open"
   ]
  },
  {
   "cell_type": "code",
   "execution_count": 1,
   "metadata": {},
   "outputs": [],
   "source": [
    "class ReadJSON():\n",
    "    \n",
    "    @staticmethod\n",
    "    def read(file_path):\n",
    "        with open(file_path) as f:\n",
    "            d = json.load(f)\n",
    "        return flattenDict(d)"
   ]
  },
  {
   "cell_type": "markdown",
   "metadata": {},
   "source": [
    "## Print Flatten FHIR JSON"
   ]
  },
  {
   "cell_type": "code",
   "execution_count": 19,
   "metadata": {},
   "outputs": [],
   "source": [
    "class MakeResult():\n",
    "    def __init__(self, data, source_paths, destination_path):\n",
    "        self.source_paths = source_paths\n",
    "        self.data = data\n",
    "        self.destination_path = destination_path\n",
    "        \n",
    "    def outputs(self):      \n",
    "        for resource in self.data:\n",
    "           \n",
    "            destination_path = self.destination_path + '/' + resource['resourceType']\n",
    "            #print('destination: ' ,destination_path)\n",
    "            id = resource['id'].split('-')[0]\n",
    "     \n",
    "            f = open(destination_path + '/' + id + '.' + resource['resourceType'] + '.json', 'w')\n",
    "            f.write(json.dumps(resource))\n",
    "            f.close()\n",
    "        return"
   ]
  },
  {
   "cell_type": "code",
   "execution_count": 41,
   "metadata": {},
   "outputs": [
    {
     "name": "stdout",
     "output_type": "stream",
     "text": [
      "Directory  ../data/fhir-json/Cassandra/DiagnosticReport  Created \n",
      "filename:  0.DiagnosticReport.json\n",
      "path_db_workload_files:  ../data/fhir-json/2rows/DiagnosticReport/0.DiagnosticReport.json\n",
      "filename:  1.DiagnosticReport.json\n",
      "path_db_workload_files:  ../data/fhir-json/2rows/DiagnosticReport/1.DiagnosticReport.json\n",
      "filename:  2.DiagnosticReport.json\n",
      "path_db_workload_files:  ../data/fhir-json/2rows/DiagnosticReport/2.DiagnosticReport.json\n"
     ]
    }
   ],
   "source": [
    "root_dir = '../'\n",
    "\n",
    "#input_data_folders = ['Condition']\n",
    "#input_data_dir = root_dir + 'data/fhir-json/3rows'\n",
    "\n",
    "input_data_folders = ['DiagnosticReport']\n",
    "input_data_dir = root_dir + 'data/fhir-json/2rows'\n",
    "\n",
    "output_directory = root_dir + 'data/fhir-json/Cassandra'\n",
    "\n",
    "directory = MakeDirectory(output_directory)\n",
    "directory.create_dir(input_data_folders)\n",
    "            \n",
    "files = FileIterator(input_data_dir, input_data_folders)\n",
    "input_dirpaths = files.iterate_filenames()\n",
    "\n",
    "data = []\n",
    "files = ContentReader(input_dirpaths)\n",
    "data = files.get_data()\n",
    "\n",
    "result = MakeResult(data, input_dirpaths, output_directory)\n",
    "result.outputs()"
   ]
  },
  {
   "cell_type": "code",
   "execution_count": null,
   "metadata": {},
   "outputs": [],
   "source": []
  }
 ],
 "metadata": {
  "kernelspec": {
   "display_name": "Python 3",
   "language": "python",
   "name": "python3"
  },
  "language_info": {
   "codemirror_mode": {
    "name": "ipython",
    "version": 3
   },
   "file_extension": ".py",
   "mimetype": "text/x-python",
   "name": "python",
   "nbconvert_exporter": "python",
   "pygments_lexer": "ipython3",
   "version": "3.6.2"
  }
 },
 "nbformat": 4,
 "nbformat_minor": 2
}
