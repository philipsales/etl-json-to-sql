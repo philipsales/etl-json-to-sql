{
 "cells": [
  {
   "cell_type": "code",
   "execution_count": 2,
   "metadata": {},
   "outputs": [],
   "source": [
    "import sys\n",
    "import os\n",
    "from os import path\n",
    "from os import walk\n",
    "\n",
    "import re\n",
    "\n",
    "import pandas as pd\n",
    "import json\n",
    "import logging\n",
    "import pandas_profiling\n",
    "from pandas.io.json import json_normalize "
   ]
  },
  {
   "cell_type": "markdown",
   "metadata": {},
   "source": [
    "## Get Columns"
   ]
  },
  {
   "cell_type": "code",
   "execution_count": 85,
   "metadata": {},
   "outputs": [
    {
     "data": {
      "text/plain": [
       "['address',\n",
       " 'birthDate',\n",
       " 'communication',\n",
       " 'deceasedDateTime',\n",
       " 'gender',\n",
       " 'id',\n",
       " 'identifier',\n",
       " 'maritalStatus.coding',\n",
       " 'maritalStatus.text',\n",
       " 'multipleBirthBoolean',\n",
       " 'name',\n",
       " 'resourceType',\n",
       " 'telecom',\n",
       " 'text.div',\n",
       " 'text.status']"
      ]
     },
     "execution_count": 85,
     "metadata": {},
     "output_type": "execute_result"
    }
   ],
   "source": [
    "with open(\"../data/fhir-json/2rows/Patient/1.Patient.json\") as f:\n",
    "    d = json.load(f)\n",
    "\n",
    "awhcuris = json_normalize(d)\n",
    "address_data = awhcuris.head(31)\n",
    "address_data.T\n",
    "\n",
    "data_list = list(address_data)\n",
    "data_list"
   ]
  },
  {
   "cell_type": "markdown",
   "metadata": {},
   "source": [
    "## Flatten"
   ]
  },
  {
   "cell_type": "code",
   "execution_count": 3,
   "metadata": {},
   "outputs": [],
   "source": [
    "def flattenDict(d, result=None):\n",
    "    \n",
    "    if result is None:\n",
    "        result = {}\n",
    "        \n",
    "    for key, value in list(d.items()):\n",
    "        value = d[key]\n",
    "        \n",
    "        #TODO: OPtimiza strip clean\n",
    "        if isinstance(value, str):\n",
    "            value = value.replace(\"'\", ' ')\n",
    "                \n",
    "        if isinstance(value, dict):\n",
    "            #print('THIS IS DICT: ========')\n",
    "            #print(value)\n",
    "            value1 = {}\n",
    "            for keyIn in value:\n",
    "                #print('DICT keyIn :', keyIn)\n",
    "                value1[\".\".join([key,keyIn])]=value[keyIn.lower()]\n",
    "            flattenDict(value1, result)\n",
    "        elif isinstance(value, (list, tuple)):  \n",
    "            #print('THIS IS TUPEL: ', value)\n",
    "            for indexB, element in enumerate(value):\n",
    "                if isinstance(element, dict):\n",
    "                    value1 = {}\n",
    "                    index = 0\n",
    "                    for keyIn in element:\n",
    "                        #print('TUPLES keyIn :', keyIn)\n",
    "                        #print('key :', key)\n",
    "                        newkey = \".\".join([key,keyIn])        \n",
    "                        value1[\".\".join([key,keyIn])]=value[indexB][keyIn]\n",
    "                        index += 1\n",
    "                    for keyA in value1:\n",
    "                        flattenDict(value1, result)   \n",
    "        else: \n",
    "            result[key.lower()]=value\n",
    "            \n",
    "            #columns.append(key.lower())\n",
    "            #print('[key]: ', key)\n",
    "            \n",
    "            \n",
    "            #print('result[key]: ', result[key])\n",
    "            \n",
    "    \n",
    "    return result"
   ]
  },
  {
   "cell_type": "code",
   "execution_count": 4,
   "metadata": {},
   "outputs": [],
   "source": [
    "class MakeDirectory:\n",
    "    \n",
    "    def __init__(self, path):\n",
    "        self.path = path\n",
    "\n",
    "    def create_dir(self, folders=None):\n",
    "        dirName = ''\n",
    "        \n",
    "        if isinstance(folders, list):\n",
    "            \n",
    "            for folder in folders:\n",
    "                dirName =  self.path + '/' + folder\n",
    "                try:\n",
    "                    os.makedirs(dirName)\n",
    "                    print(\"Directory \" , dirName ,  \" Created \") \n",
    "                except FileExistsError:\n",
    "                    print(\"Directory \" , dirName ,  \" already exists\")\n",
    "        else:\n",
    "            os.makedirs(dirName)"
   ]
  },
  {
   "cell_type": "markdown",
   "metadata": {},
   "source": [
    "## Folder directory Iterator"
   ]
  },
  {
   "cell_type": "code",
   "execution_count": 5,
   "metadata": {},
   "outputs": [],
   "source": [
    "class FileIterator:\n",
    "    \n",
    "    def __init__(self, input_root, input_folders):\n",
    "        self.input_data_dir = input_root\n",
    "        self.input_folders = input_folders\n",
    "        \n",
    "    def iterate_filenames(self):\n",
    "        resources = self.__iterate_dirfiles()\n",
    "        \n",
    "        files = self.__iterate_file(resources)\n",
    "        \n",
    "        return files\n",
    "        \n",
    "    def __iterate_dirfiles(self):\n",
    "        path_files = []\n",
    "        file_names = self.input_folders\n",
    "\n",
    "        for file in file_names:\n",
    "            path_files.append(input_data_dir + '/' + file)\n",
    "        return path_files\n",
    "    \n",
    "    def __iterate_file(self, path_dbs):\n",
    "        path_db_workload_files = []     \n",
    "        for path_db in path_dbs:\n",
    "            for root, dirs, files in walk(path_db): \n",
    "                index = 0\n",
    "                for filename in files:\n",
    "                    \n",
    "                    print('remaining files: ', len(files)-index)\n",
    "                    if not filename.endswith(('.json~', '.swp', '-checkpoint.json')):\n",
    "                        print('valid file: ',filename)\n",
    "                        path_db_workload_files.append(root + '/' + filename)\n",
    "                        index+=1\n",
    "                    if ''.join(dirs) != '.ipynb_checkpoints':\n",
    "                        pass\n",
    "\n",
    "        return path_db_workload_files"
   ]
  },
  {
   "cell_type": "markdown",
   "metadata": {},
   "source": [
    "## Filecontent reader"
   ]
  },
  {
   "cell_type": "code",
   "execution_count": 6,
   "metadata": {},
   "outputs": [],
   "source": [
    "class ContentReaderJSON():\n",
    "    \n",
    "    def __init__(self, filename_paths):\n",
    "        self.filename_paths = filename_paths\n",
    "        \n",
    "    def get_data(self):\n",
    "        data = []\n",
    "        for filename_path in self.filename_paths:\n",
    "            \n",
    "            json = ReadJSON()\n",
    "            data.append(json.read(filename_path))\n",
    "\n",
    "        return data"
   ]
  },
  {
   "cell_type": "code",
   "execution_count": 21,
   "metadata": {},
   "outputs": [],
   "source": [
    "class ContentReader():\n",
    "    \n",
    "    def __init__(self, filename_paths,  destination_path):\n",
    "        self.filename_paths = filename_paths\n",
    "        self.destination_path = destination_path\n",
    "        \n",
    "    def get_data(self):\n",
    "        data = []\n",
    "        index = 0\n",
    "        for filename_path in self.filename_paths:\n",
    "            \n",
    "            print('remaining files: ', len(self.filename_paths) - index)\n",
    "            \n",
    "            read_json = ReadJSON()\n",
    "            resource = read_json.read(filename_path)\n",
    "            \n",
    "            destination_path = '%s/%s' % (self.destination_path, resource['resourcetype'] )\n",
    "\n",
    "            resource_id = resource['id'].split('-')[0]\n",
    "            \n",
    "            \n",
    "            f = open(destination_path + '/' + resource_id + '.' + resource['resourcetype'] + '.json', 'w')\n",
    "            f.write(json.dumps(resource))\n",
    "            print('writing: ', resource_id)\n",
    "            f.close()\n",
    "            index += 1\n",
    "            \n",
    "            #data.append(read_json.read(filename_path))\n",
    "\n",
    "        return data"
   ]
  },
  {
   "cell_type": "markdown",
   "metadata": {},
   "source": [
    "## File Open"
   ]
  },
  {
   "cell_type": "code",
   "execution_count": 8,
   "metadata": {},
   "outputs": [],
   "source": [
    "class ReadJSON():\n",
    "    \n",
    "    @staticmethod\n",
    "    def read(file_path):\n",
    "        with open(file_path) as f:\n",
    "            d = json.load(f)\n",
    "        return flattenDict(d)"
   ]
  },
  {
   "cell_type": "markdown",
   "metadata": {},
   "source": [
    "## Print Flatten FHIR JSON"
   ]
  },
  {
   "cell_type": "code",
   "execution_count": 19,
   "metadata": {},
   "outputs": [],
   "source": [
    "class MakeResults():\n",
    "    def __init__(self, data, source_paths, destination_path):\n",
    "        self.source_paths = source_paths\n",
    "        self.data = data\n",
    "        self.destination_path = destination_path\n",
    "        \n",
    "    def outputs(self):      \n",
    "        for resource in self.data:\n",
    "           \n",
    "            destination_path = self.destination_path + '/' + resource['resourcetype']\n",
    "            #print('destination: ' ,destination_path)\n",
    "            id = resource['id'].split('-')[0]\n",
    "     \n",
    "            f = open(destination_path + '/' + id + '.' + resource['resourcetype'] + '.json', 'w')\n",
    "            f.write(json.dumps(resource))\n",
    "            f.close()\n",
    "        return"
   ]
  },
  {
   "cell_type": "code",
   "execution_count": 9,
   "metadata": {},
   "outputs": [],
   "source": [
    "class MakeResult():\n",
    "\n",
    "    @staticmethod\n",
    "    def outputs(self):      \n",
    "        for resource in self.data:\n",
    "           \n",
    "            destination_path = self.destination_path + '/' + resource['resourcetype']\n",
    "            #print('destination: ' ,destination_path)\n",
    "            id = resource['id'].split('-')[0]\n",
    "     \n",
    "            f = open(destination_path + '/' + id + '.' + resource['resourcetype'] + '.json', 'w')\n",
    "            f.write(json.dumps(resource))\n",
    "            f.close()\n",
    "        return"
   ]
  },
  {
   "cell_type": "code",
   "execution_count": 22,
   "metadata": {},
   "outputs": [
    {
     "name": "stdout",
     "output_type": "stream",
     "text": [
      "Directory  ..//output/fhir-json-cassandra/9rows/Patient  already exists\n",
      "remaining files:  3\n",
      "valid file:  1.patient.json\n",
      "remaining files:  2\n",
      "valid file:  2.patient.json\n",
      "remaining files:  1\n",
      "valid file:  3.patient.json\n",
      "remaining files:  3\n",
      "writing:  ddf5ae5c\n",
      "remaining files:  2\n",
      "writing:  3c9a0fe6\n",
      "remaining files:  1\n",
      "writing:  6f8f470e\n"
     ]
    }
   ],
   "source": [
    "root_dir='../'\n",
    "data_dir='../data'\n",
    "\n",
    "input_data_folders = ['Patient']\n",
    "input_data_dir = data_dir + '/fhir-json/9rows'\n",
    "\n",
    "output_directory = root_dir + '/output/fhir-json-cassandra/9rows'\n",
    "\n",
    "directory = MakeDirectory(output_directory)\n",
    "directory.create_dir(input_data_folders)\n",
    "    \n",
    "files = FileIterator(input_data_dir, input_data_folders)\n",
    "input_dirpaths = files.iterate_filenames()\n",
    "input_dirpaths\n",
    "\n",
    "data = []\n",
    "files = ContentReader(input_dirpaths, output_directory)\n",
    "data = files.get_data()\n",
    "\n",
    "#result = MakeResult(data, input_dirpaths, output_directory)\n",
    "#result.outputs()\n",
    "\n",
    "#TODO OPTIMIZE array \n",
    "#TODO OPTIMIZE DYNAMIC FIELDS DDL GENERATOR"
   ]
  },
  {
   "cell_type": "code",
   "execution_count": null,
   "metadata": {},
   "outputs": [],
   "source": []
  }
 ],
 "metadata": {
  "kernelspec": {
   "display_name": "Python 3",
   "language": "python",
   "name": "python3"
  },
  "language_info": {
   "codemirror_mode": {
    "name": "ipython",
    "version": 3
   },
   "file_extension": ".py",
   "mimetype": "text/x-python",
   "name": "python",
   "nbconvert_exporter": "python",
   "pygments_lexer": "ipython3",
   "version": "3.6.2"
  }
 },
 "nbformat": 4,
 "nbformat_minor": 2
}
