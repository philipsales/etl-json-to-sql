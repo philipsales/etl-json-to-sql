{
 "cells": [
  {
   "cell_type": "code",
   "execution_count": 11,
   "metadata": {},
   "outputs": [],
   "source": [
    "import sys\n",
    "from os import path\n",
    "from os import walk\n",
    "import re\n",
    "import pandas as pd\n",
    "import json\n",
    "import logging\n",
    "import subprocess"
   ]
  },
  {
   "cell_type": "code",
   "execution_count": 14,
   "metadata": {},
   "outputs": [],
   "source": [
    "class FileIterator:\n",
    "\n",
    "    def __init__(self, input_root, input_folders):\n",
    "        self.input_data_dir = input_root\n",
    "        self.input_folders = input_folders\n",
    "        \n",
    "    def iterate_filenames(self):\n",
    "        resources = self.__iterate_dirfiles()\n",
    "        files = self.__iterate_file(resources)\n",
    "        return files\n",
    "        \n",
    "    def __iterate_dirfiles(self):\n",
    "        path_files = []\n",
    "        file_names = self.input_folders\n",
    "\n",
    "        for file in file_names:\n",
    "            path_files.append(input_data_dir + '/' + file)\n",
    "        return path_files\n",
    "    \n",
    "    def __iterate_file(self, path_dbs):\n",
    "        path_db_workload_files = []     \n",
    "        for path_db in path_dbs:\n",
    "            for root, dirs, files in walk(path_db):  \n",
    "                for filename in files:\n",
    "                    if not filename.endswith(('.json~', '.swp')):\n",
    "                        print('valid file: ',filename)\n",
    "                        path_db_workload_files.append(root + '/' + filename)\n",
    "                    if ''.join(dirs) != '.ipynb_checkpoints':\n",
    "                        pass\n",
    "                    \n",
    "        return path_db_workload_files"
   ]
  },
  {
   "cell_type": "code",
   "execution_count": 15,
   "metadata": {},
   "outputs": [],
   "source": [
    "class ContentReader():\n",
    "    \n",
    "    def __init__(self, filename_paths):\n",
    "        self.filename_paths = filename_paths\n",
    "        \n",
    "    def get_data(self):\n",
    "        data = []\n",
    "        for filename_path in self.filename_paths:\n",
    "            \n",
    "            json = ReadJSON()\n",
    "            data.append(json.read(filename_path))\n",
    "\n",
    "        return data"
   ]
  },
  {
   "cell_type": "code",
   "execution_count": 9,
   "metadata": {},
   "outputs": [],
   "source": [
    "class ReadJSON():\n",
    "    \n",
    "    @staticmethod\n",
    "    def read(file_path):\n",
    "        with open(file_path) as f:\n",
    "            d = json.load(f)\n",
    "        return d"
   ]
  },
  {
   "cell_type": "code",
   "execution_count": 121,
   "metadata": {},
   "outputs": [],
   "source": [
    "class MongoImport():\n",
    "    \n",
    "    @staticmethod\n",
    "    def insert_all(dir_paths):\n",
    "        database = 'ycsb'\n",
    "        \n",
    "        for path in dir_paths:\n",
    "            collection = path.split('/')[3].lower()\n",
    "            try:\n",
    "                cmd = \"mongoimport --db %s --collection %s --type json --file '%s'\" % (database, collection, path)\n",
    "                result = subprocess.run(cmd, shell=True, stdout=subprocess.PIPE)\n",
    "                result.stdout\n",
    "            except Exception as e:\n",
    "                print(e)\n",
    "                result = e\n",
    "        return result"
   ]
  },
  {
   "cell_type": "code",
   "execution_count": 120,
   "metadata": {},
   "outputs": [
    {
     "name": "stdout",
     "output_type": "stream",
     "text": [
      "valid file:  0.Patient.json\n",
      "valid file:  1.Patient.json\n",
      "valid file:  0.Condition.json\n",
      "valid file:  1.Condition.json\n"
     ]
    }
   ],
   "source": [
    "root_dir = '../'\n",
    "\n",
    "input_data_folders = ['Patient','Condition']\n",
    "input_data_dir = root_dir + 'output/fhir-json-redis'\n",
    "\n",
    "files = FileIterator(input_data_dir, input_data_folders)\n",
    "input_dirpaths = files.iterate_filenames()\n",
    "\n",
    "result = MongoImport.insert_all(input_dirpaths)"
   ]
  }
 ],
 "metadata": {
  "kernelspec": {
   "display_name": "Python 3",
   "language": "python",
   "name": "python3"
  },
  "language_info": {
   "codemirror_mode": {
    "name": "ipython",
    "version": 3
   },
   "file_extension": ".py",
   "mimetype": "text/x-python",
   "name": "python",
   "nbconvert_exporter": "python",
   "pygments_lexer": "ipython3",
   "version": "3.6.2"
  }
 },
 "nbformat": 4,
 "nbformat_minor": 2
}
