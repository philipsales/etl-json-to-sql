{
 "cells": [
  {
   "cell_type": "code",
   "execution_count": 12,
   "metadata": {},
   "outputs": [],
   "source": [
    "\n",
    "import sys\n",
    "import os\n",
    "from os import path\n",
    "from os import walk\n",
    "\n",
    "import re\n",
    "\n",
    "import pandas as pd\n",
    "import json\n",
    "import logging\n",
    "import pandas_profiling\n",
    "from pandas.io.json import json_normalize "
   ]
  },
  {
   "cell_type": "markdown",
   "metadata": {},
   "source": [
    "## create directory"
   ]
  },
  {
   "cell_type": "code",
   "execution_count": 13,
   "metadata": {},
   "outputs": [
    {
     "data": {
      "text/plain": [
       "['address',\n",
       " 'birthDate',\n",
       " 'communication',\n",
       " 'deceasedDateTime',\n",
       " 'gender',\n",
       " 'id',\n",
       " 'identifier',\n",
       " 'maritalStatus.coding',\n",
       " 'maritalStatus.text',\n",
       " 'multipleBirthBoolean',\n",
       " 'name',\n",
       " 'resourceType',\n",
       " 'telecom',\n",
       " 'text.div',\n",
       " 'text.status']"
      ]
     },
     "execution_count": 13,
     "metadata": {},
     "output_type": "execute_result"
    }
   ],
   "source": [
    "with open(\"data/fhir-json/3rows/Patient/1.patient.json\") as f:\n",
    "    d = json.load(f)\n",
    "\n",
    "awhcuris = json_normalize(d)\n",
    "address_data = awhcuris.head(31)\n",
    "address_data.T\n",
    "\n",
    "data_list = list(address_data)\n",
    "data_list"
   ]
  },
  {
   "cell_type": "markdown",
   "metadata": {},
   "source": [
    "## get dataset sampel"
   ]
  },
  {
   "cell_type": "code",
   "execution_count": 20,
   "metadata": {},
   "outputs": [],
   "source": [
    "def flattenDict(d, result=None):\n",
    "    if result is None:\n",
    "        result = {}\n",
    "    for key in d:\n",
    "        value = d[key]\n",
    "        if isinstance(value, dict):\n",
    "        #if d['type'] =='object':\n",
    "            value1 = {}\n",
    "            for keyIn in value:\n",
    "                value1[\".\".join([key,keyIn])]=value[keyIn]\n",
    "            flattenDict(value1, result)\n",
    "        elif isinstance(value, (list, tuple)):   \n",
    "            for indexB, element in enumerate(value):\n",
    "                if isinstance(element, dict):\n",
    "                    value1 = {}\n",
    "                    index = 0\n",
    "                    for keyIn in element:\n",
    "                        newkey = \".\".join([key,keyIn])        \n",
    "                        value1[\".\".join([key,keyIn])]=value[indexB][keyIn]\n",
    "                        index += 1\n",
    "                    for keyA in value1:\n",
    "                        flattenDict(value1, result)   \n",
    "        else:\n",
    "            result[key]=value\n",
    "    return result"
   ]
  },
  {
   "cell_type": "code",
   "execution_count": 19,
   "metadata": {},
   "outputs": [
    {
     "ename": "NameError",
     "evalue": "name 'json_normalize' is not defined",
     "output_type": "error",
     "traceback": [
      "\u001b[0;31m---------------------------------------------------------------------------\u001b[0m",
      "\u001b[0;31mNameError\u001b[0m                                 Traceback (most recent call last)",
      "\u001b[0;32m<ipython-input-19-7d884f78c486>\u001b[0m in \u001b[0;36m<module>\u001b[0;34m()\u001b[0m\n\u001b[1;32m      3\u001b[0m \u001b[0;34m\u001b[0m\u001b[0m\n\u001b[1;32m      4\u001b[0m \u001b[0;34m\u001b[0m\u001b[0m\n\u001b[0;32m----> 5\u001b[0;31m \u001b[0mawhcuris\u001b[0m \u001b[0;34m=\u001b[0m \u001b[0mjson_normalize\u001b[0m\u001b[0;34m(\u001b[0m\u001b[0md\u001b[0m\u001b[0;34m)\u001b[0m\u001b[0;34m\u001b[0m\u001b[0m\n\u001b[0m\u001b[1;32m      6\u001b[0m \u001b[0maddress_data\u001b[0m \u001b[0;34m=\u001b[0m \u001b[0mawhcuris\u001b[0m\u001b[0;34m.\u001b[0m\u001b[0mhead\u001b[0m\u001b[0;34m(\u001b[0m\u001b[0;36m31\u001b[0m\u001b[0;34m)\u001b[0m\u001b[0;34m\u001b[0m\u001b[0m\n\u001b[1;32m      7\u001b[0m \u001b[0;34m\u001b[0m\u001b[0m\n",
      "\u001b[0;31mNameError\u001b[0m: name 'json_normalize' is not defined"
     ]
    }
   ],
   "source": [
    "with open(\"data/fhir-json/3rows/condition/1.condition.json\") as f:\n",
    "    d = json.load(f)\n",
    "\n",
    "\n",
    "awhcuris = json_normalize(d)\n",
    "address_data = awhcuris.head(31)\n",
    "\n",
    "\n",
    "\n",
    "\n",
    "final = flattenDict(d)\n",
    "#final = json.dumps(d)\n",
    "new_json = json.dumps(final)\n",
    "\n",
    "#final\n",
    "#address_data.dtypes"
   ]
  },
  {
   "cell_type": "markdown",
   "metadata": {},
   "source": [
    "## Write flatten FHIR resource"
   ]
  },
  {
   "cell_type": "code",
   "execution_count": 134,
   "metadata": {},
   "outputs": [
    {
     "name": "stdout",
     "output_type": "stream",
     "text": [
      "1\n"
     ]
    }
   ],
   "source": [
    "index = 1\n",
    "fhir_resource = 'condition'\n",
    "directory = 'data/fhir-ndjson/'\n",
    "\n",
    "f = open( directory + str(index) + '.' + fhir_resource + '.json', 'w')\n",
    "print(index)\n",
    "f.write(new_json)\n",
    "f.close()\n",
    "index += 1"
   ]
  },
  {
   "cell_type": "markdown",
   "metadata": {},
   "source": [
    "## Folder directory Iterator"
   ]
  },
  {
   "cell_type": "code",
   "execution_count": 4,
   "metadata": {},
   "outputs": [],
   "source": [
    "import re\n",
    "\n",
    "from os import path\n",
    "from os import walk\n",
    "\n",
    "class FileIterator:\n",
    "    \n",
    "    def __init__(self, input_root, input_folders):\n",
    "        self.input_data_dir = input_root\n",
    "        self.input_folders = input_folders\n",
    "        \n",
    "    def iterate_filenames(self):\n",
    "        resources = self.__iterate_dirfiles()\n",
    "        files = self.__iterate_file(resources)\n",
    "        return files\n",
    "        \n",
    "    def __iterate_dirfiles(self):\n",
    "        path_files = []\n",
    "        file_names = self.input_folders\n",
    "\n",
    "        for file in file_names:\n",
    "            path_files.append(input_data_dir + '/' + file)\n",
    "        return path_files\n",
    "    \n",
    "    def __iterate_file(self, path_dbs):\n",
    "        path_db_workload_files = []\n",
    "        \n",
    "        for path_db in path_dbs:\n",
    "            for root, dirs, files in walk(path_db):  \n",
    "                for filename in files:\n",
    "                    if ''.join(dirs) != '.ipynb_checkpoints':\n",
    "                        break\n",
    "                    else: \n",
    "                        path_db_workload_files.append(root + '/' + filename)\n",
    "        return path_db_workload_files"
   ]
  },
  {
   "cell_type": "markdown",
   "metadata": {},
   "source": [
    "## Filecontent reader"
   ]
  },
  {
   "cell_type": "code",
   "execution_count": 5,
   "metadata": {},
   "outputs": [],
   "source": [
    "class ContentReader():\n",
    "    \n",
    "    def __init__(self, filename_paths):\n",
    "        self.filename_paths = filename_paths\n",
    "        \n",
    "    def get_data(self):\n",
    "        data = []\n",
    "        for filename_path in self.filename_paths:\n",
    "          \n",
    "            file = filename_path.split(sep='/')\n",
    "            filename = (file[len(file)-1])\n",
    "            \n",
    "            json = ReadJSON()\n",
    "            data.append(json.read(filename_path))\n",
    "\n",
    "        return data"
   ]
  },
  {
   "cell_type": "code",
   "execution_count": 11,
   "metadata": {},
   "outputs": [],
   "source": [
    "class ReadJSON():\n",
    "    \n",
    "    @staticmethod\n",
    "    def read(file_path):\n",
    "        with open(file_path) as f:\n",
    "            d = json.load(f)\n",
    "        #eturn flattenDict(d)\n",
    "        return FHIRJson.flattenDict(d)"
   ]
  },
  {
   "cell_type": "markdown",
   "metadata": {},
   "source": [
    "## Print Flatten FHIR JSON"
   ]
  },
  {
   "cell_type": "code",
   "execution_count": 7,
   "metadata": {},
   "outputs": [],
   "source": [
    "\n",
    "def output(resources, filename_path): \n",
    "    index = 0\n",
    "    fhir_resource = 'condition'\n",
    "    directory = 'data/fhir-json/output/'\n",
    "\n",
    "    fhir_resource = filename.split('.')[1]\n",
    "\n",
    "    for resource in resources:\n",
    "        print(resource)\n",
    "        f = open(directory + str(index) + '.' + resource['resourceType'] + '.json', 'w')\n",
    "        #print(index)\n",
    "        f.write(json.dumps(resource))\n",
    "        f.close()\n",
    "        index += 1\n",
    "        \n",
    "        \n",
    "class PrintResult():\n",
    "    def __init__(self, data, source_paths, destination_path):\n",
    "        self.source_paths = source_paths\n",
    "        self.data = data\n",
    "        self.destination_path = destination_path\n",
    "        \n",
    "    def outputs(self):      \n",
    "        for resource in self.data:\n",
    "            destination_path = self.destination_path + '/' + resource['resourceType']\n",
    "            id = resource['id'].split('-')[0]\n",
    "\n",
    "           \n",
    "            f = open(destination_path + '/' + id + '.' + resource['resourceType'] + '.json', 'w')\n",
    "            f.write(json.dumps(resource))\n",
    "            f.close()\n",
    "        return"
   ]
  },
  {
   "cell_type": "code",
   "execution_count": null,
   "metadata": {},
   "outputs": [],
   "source": []
  },
  {
   "cell_type": "code",
   "execution_count": null,
   "metadata": {},
   "outputs": [],
   "source": []
  },
  {
   "cell_type": "code",
   "execution_count": 1,
   "metadata": {},
   "outputs": [
    {
     "ename": "NameError",
     "evalue": "name 'MakeDirectory' is not defined",
     "output_type": "error",
     "traceback": [
      "\u001b[0;31m---------------------------------------------------------------------------\u001b[0m",
      "\u001b[0;31mNameError\u001b[0m                                 Traceback (most recent call last)",
      "\u001b[0;32m<ipython-input-1-e59e1ab73410>\u001b[0m in \u001b[0;36m<module>\u001b[0;34m()\u001b[0m\n\u001b[1;32m      4\u001b[0m \u001b[0moutput_directory\u001b[0m \u001b[0;34m=\u001b[0m \u001b[0;34m'output/fhir-json'\u001b[0m\u001b[0;34m\u001b[0m\u001b[0m\n\u001b[1;32m      5\u001b[0m \u001b[0;34m\u001b[0m\u001b[0m\n\u001b[0;32m----> 6\u001b[0;31m \u001b[0mdirectory\u001b[0m \u001b[0;34m=\u001b[0m \u001b[0mMakeDirectory\u001b[0m\u001b[0;34m(\u001b[0m\u001b[0moutput_directory\u001b[0m\u001b[0;34m)\u001b[0m\u001b[0;34m\u001b[0m\u001b[0m\n\u001b[0m\u001b[1;32m      7\u001b[0m \u001b[0mdirectory\u001b[0m\u001b[0;34m.\u001b[0m\u001b[0mcreate_dir\u001b[0m\u001b[0;34m(\u001b[0m\u001b[0minput_data_folders\u001b[0m\u001b[0;34m)\u001b[0m\u001b[0;34m\u001b[0m\u001b[0m\n\u001b[1;32m      8\u001b[0m \u001b[0;34m\u001b[0m\u001b[0m\n",
      "\u001b[0;31mNameError\u001b[0m: name 'MakeDirectory' is not defined"
     ]
    }
   ],
   "source": [
    "input_data_folders = ['patient', 'condition']\n",
    "input_data_dir = 'data/fhir-json/3rows'\n",
    "\n",
    "output_directory = 'output/fhir-json'\n",
    "\n",
    "directory = MakeDirectory(output_directory)\n",
    "directory.create_dir(input_data_folders)\n",
    "\n",
    "files = FileIterator(input_data_dir, input_data_folders)\n",
    "input_dirpaths = files.iterate_filenames()\n",
    "\n",
    "data = []\n",
    "files = ContentReader(input_dirpaths)\n",
    "data = files.get_data()\n",
    "\n",
    "result = PrintResult(data, input_dirpaths, output_directory)\n",
    "result.outputs()"
   ]
  }
 ],
 "metadata": {
  "kernelspec": {
   "display_name": "Python 3",
   "language": "python",
   "name": "python3"
  },
  "language_info": {
   "codemirror_mode": {
    "name": "ipython",
    "version": 3
   },
   "file_extension": ".py",
   "mimetype": "text/x-python",
   "name": "python",
   "nbconvert_exporter": "python",
   "pygments_lexer": "ipython3",
   "version": "3.6.2"
  }
 },
 "nbformat": 4,
 "nbformat_minor": 2
}
